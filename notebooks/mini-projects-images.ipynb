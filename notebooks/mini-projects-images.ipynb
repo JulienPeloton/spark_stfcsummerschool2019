{
 "cells": [
  {
   "cell_type": "markdown",
   "metadata": {},
   "source": [
    "# Mini-Project 2: Source extraction\n",
    "\n",
    "**Context**\n",
    "\n",
    "This notebook illustrates the basics of distributing image data, and process them separately. In this notebook, we will load MegaCam data, and extract source positions in the CCDs. For more about Apache Spark in the context of astronomy, connect to [AstroLab Software](https://astrolabsoftware.github.io/)!\n",
    "\n",
    "**Learning objectives**\n",
    "\n",
    "After going through this notebook, you should be able to:\n",
    "\n",
    "- Load and efficiently access astronomical images with Apache Spark\n",
    "- Interface and use your favourite image processing package.\n",
    "\n",
    "For this project, you will use the data at `data/images`:"
   ]
  },
  {
   "cell_type": "code",
   "execution_count": null,
   "metadata": {},
   "outputs": [],
   "source": [
    "df = spark.read.format(\"fits\").option(\"hdu\", 1).load(\"../data/images\")"
   ]
  },
  {
   "cell_type": "code",
   "execution_count": null,
   "metadata": {},
   "outputs": [],
   "source": [
    "df.show(3)"
   ]
  },
  {
   "cell_type": "markdown",
   "metadata": {},
   "source": [
    "Spark SQL does not have the sense of what an image is, he knows only about rows.\n",
    "\n",
    "**Exercise (£):** Find a way to isolate each image into one partition. Hint: each image comes from its own file."
   ]
  },
  {
   "cell_type": "code",
   "execution_count": null,
   "metadata": {},
   "outputs": [],
   "source": [
    "from pyspark.sql.functions import input_file_name\n",
    "\n",
    "df_images = df.withColumn(\"filename\",input_file_name()).orderBy(\"filename\")"
   ]
  },
  {
   "cell_type": "code",
   "execution_count": null,
   "metadata": {},
   "outputs": [],
   "source": [
    "df_images.show(1)"
   ]
  },
  {
   "cell_type": "markdown",
   "metadata": {},
   "source": [
    "**Exercise (££ to ££££):** Using photutils or whatever you prefer, extract position of sources in images whose peak value is 50-sigma above the background."
   ]
  },
  {
   "cell_type": "code",
   "execution_count": null,
   "metadata": {},
   "outputs": [],
   "source": []
  }
 ],
 "metadata": {
  "kernelspec": {
   "display_name": "Python 3",
   "language": "python",
   "name": "python3"
  },
  "language_info": {
   "codemirror_mode": {
    "name": "ipython",
    "version": 3
   },
   "file_extension": ".py",
   "mimetype": "text/x-python",
   "name": "python",
   "nbconvert_exporter": "python",
   "pygments_lexer": "ipython3",
   "version": "3.7.3"
  }
 },
 "nbformat": 4,
 "nbformat_minor": 2
}
